{
 "cells": [
  {
   "cell_type": "markdown",
   "id": "ac3eadc1",
   "metadata": {},
   "source": [
    "# Installing dependecies\n"
   ]
  },
  {
   "cell_type": "code",
   "execution_count": null,
   "id": "99195dec",
   "metadata": {},
   "outputs": [],
   "source": [
    "!pip install TableauScraper"
   ]
  },
  {
   "cell_type": "markdown",
   "id": "048817a4",
   "metadata": {},
   "source": [
    "### print worksheets in page"
   ]
  },
  {
   "cell_type": "code",
   "execution_count": null,
   "id": "70914abe",
   "metadata": {},
   "outputs": [],
   "source": [
    "from tableauscraper import TableauScraper as TS\n",
    "\n",
    "url = \"https://public.tableau.com/views/PlayerStats-Top5Leagues20192020/OnePlayerSummary\"\n",
    "\n",
    "ts = TS()\n",
    "ts.loads(url)\n",
    "workbook = ts.getWorkbook()\n",
    "\n",
    "for t in workbook.worksheets:\n",
    "    print(f\"worksheet name : {t.name}\") #show worksheet name\n",
    "    print(t.data) #show dataframe for this worksheet"
   ]
  },
  {
   "cell_type": "markdown",
   "id": "714a0a5d",
   "metadata": {},
   "source": [
    "### print a specific worksheet"
   ]
  },
  {
   "cell_type": "code",
   "execution_count": null,
   "id": "6eee12f3",
   "metadata": {},
   "outputs": [],
   "source": [
    "ts = TS()\n",
    "ts.loads(url)\n",
    "\n",
    "ws = ts.getWorksheet(\"ATT MID CREATIVE COMP\")\n",
    "print(ws.data)"
   ]
  },
  {
   "cell_type": "markdown",
   "id": "7c79f4e5",
   "metadata": {},
   "source": [
    "### Print csv "
   ]
  },
  {
   "cell_type": "code",
   "execution_count": null,
   "id": "9c8a1038",
   "metadata": {},
   "outputs": [],
   "source": [
    "url = 'https://public.tableau.com/views/WYCOVID-19Dashboard/WyomingCOVID-19CaseDashboard'\n",
    "ts = TS()\n",
    "ts.loads(url)\n",
    "wb = ts.getWorkbook()\n",
    "data = wb.getCsvData(sheetName='case map')\n",
    "\n",
    "print(data)"
   ]
  },
  {
   "cell_type": "markdown",
   "id": "f8644235",
   "metadata": {},
   "source": [
    "## Next steps\n",
    "* convert to data frame\n",
    "* from df to excel workbook\n",
    "* download excel workbook\n",
    "* upload to wherever you need"
   ]
  },
  {
   "cell_type": "code",
   "execution_count": null,
   "id": "9b8bc5f3",
   "metadata": {},
   "outputs": [],
   "source": [
    "import pandas as pd\n",
    "\n",
    "datadf = pd.DataFrame(data=data)\n",
    "print(datadf)"
   ]
  },
  {
   "cell_type": "code",
   "execution_count": null,
   "id": "6d3eb80b",
   "metadata": {},
   "outputs": [],
   "source": [
    "from pandas import ExcelWriter\n",
    "writer = ExcelWriter('PythonExport.xlsx', path=\"\")\n",
    "datadf.to_excel(writer,'Sheet5')\n",
    "writer.save()\n",
    "\n",
    "# DF TO CSV\n",
    "datadf.to_csv('PythonExport.csv', sep=',')\n"
   ]
  },
  {
   "cell_type": "code",
   "execution_count": null,
   "id": "c85b92a5",
   "metadata": {},
   "outputs": [],
   "source": []
  }
 ],
 "metadata": {
  "kernelspec": {
   "display_name": "Python 3 (ipykernel)",
   "language": "python",
   "name": "python3"
  },
  "language_info": {
   "codemirror_mode": {
    "name": "ipython",
    "version": 3
   },
   "file_extension": ".py",
   "mimetype": "text/x-python",
   "name": "python",
   "nbconvert_exporter": "python",
   "pygments_lexer": "ipython3",
   "version": "3.9.6"
  }
 },
 "nbformat": 4,
 "nbformat_minor": 5
}
